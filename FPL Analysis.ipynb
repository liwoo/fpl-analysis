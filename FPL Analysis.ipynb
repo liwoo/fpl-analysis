{
 "cells": [
  {
   "cell_type": "markdown",
   "id": "ea2b191d-f1f4-4755-bfc6-4c257710c5d8",
   "metadata": {},
   "source": [
    "## 1. Load the Master CSV\n",
    "This is the file with all the player statistics over their last 3 seasons"
   ]
  },
  {
   "cell_type": "code",
   "execution_count": 1,
   "id": "0537b617-9c32-4b38-a779-b5a26abc0995",
   "metadata": {},
   "outputs": [
    {
     "data": {
      "text/html": [
       "\r\n",
       "<div>\r\n",
       "    <div id='dotnet-interactive-this-cell-35720.Microsoft.DotNet.Interactive.Http.HttpPort' style='display: none'>\r\n",
       "        The below script needs to be able to find the current output cell; this is an easy method to get it.\r\n",
       "    </div>\r\n",
       "    <script type='text/javascript'>\r\n",
       "async function probeAddresses(probingAddresses) {\r\n",
       "    function timeout(ms, promise) {\r\n",
       "        return new Promise(function (resolve, reject) {\r\n",
       "            setTimeout(function () {\r\n",
       "                reject(new Error('timeout'))\r\n",
       "            }, ms)\r\n",
       "            promise.then(resolve, reject)\r\n",
       "        })\r\n",
       "    }\r\n",
       "\r\n",
       "    if (Array.isArray(probingAddresses)) {\r\n",
       "        for (let i = 0; i < probingAddresses.length; i++) {\r\n",
       "\r\n",
       "            let rootUrl = probingAddresses[i];\r\n",
       "\r\n",
       "            if (!rootUrl.endsWith('/')) {\r\n",
       "                rootUrl = `${rootUrl}/`;\r\n",
       "            }\r\n",
       "\r\n",
       "            try {\r\n",
       "                let response = await timeout(1000, fetch(`${rootUrl}discovery`, {\r\n",
       "                    method: 'POST',\r\n",
       "                    cache: 'no-cache',\r\n",
       "                    mode: 'cors',\r\n",
       "                    timeout: 1000,\r\n",
       "                    headers: {\r\n",
       "                        'Content-Type': 'text/plain'\r\n",
       "                    },\r\n",
       "                    body: probingAddresses[i]\r\n",
       "                }));\r\n",
       "\r\n",
       "                if (response.status == 200) {\r\n",
       "                    return rootUrl;\r\n",
       "                }\r\n",
       "            }\r\n",
       "            catch (e) { }\r\n",
       "        }\r\n",
       "    }\r\n",
       "}\r\n",
       "\r\n",
       "function loadDotnetInteractiveApi() {\r\n",
       "    probeAddresses([\"http://127.94.0.1:1024/\", \"http://192.168.1.100:1024/\", \"http://10.211.55.2:1024/\", \"http://10.37.129.2:1024/\", \"http://127.0.0.1:1024/\"])\r\n",
       "        .then((root) => {\r\n",
       "        // use probing to find host url and api resources\r\n",
       "        // load interactive helpers and language services\r\n",
       "        let dotnetInteractiveRequire = require.config({\r\n",
       "        context: '35720.Microsoft.DotNet.Interactive.Http.HttpPort',\r\n",
       "                paths:\r\n",
       "            {\r\n",
       "                'dotnet-interactive': `${root}resources`\r\n",
       "                }\r\n",
       "        }) || require;\r\n",
       "\r\n",
       "            window.dotnetInteractiveRequire = dotnetInteractiveRequire;\r\n",
       "\r\n",
       "            window.configureRequireFromExtension = function(extensionName, extensionCacheBuster) {\r\n",
       "                let paths = {};\r\n",
       "                paths[extensionName] = `${root}extensions/${extensionName}/resources/`;\r\n",
       "                \r\n",
       "                let internalRequire = require.config({\r\n",
       "                    context: extensionCacheBuster,\r\n",
       "                    paths: paths,\r\n",
       "                    urlArgs: `cacheBuster=${extensionCacheBuster}`\r\n",
       "                    }) || require;\r\n",
       "\r\n",
       "                return internalRequire\r\n",
       "            };\r\n",
       "        \r\n",
       "            dotnetInteractiveRequire([\r\n",
       "                    'dotnet-interactive/dotnet-interactive'\r\n",
       "                ],\r\n",
       "                function (dotnet) {\r\n",
       "                    dotnet.init(window);\r\n",
       "                },\r\n",
       "                function (error) {\r\n",
       "                    console.log(error);\r\n",
       "                }\r\n",
       "            );\r\n",
       "        })\r\n",
       "        .catch(error => {console.log(error);});\r\n",
       "    }\r\n",
       "\r\n",
       "// ensure `require` is available globally\r\n",
       "if ((typeof(require) !==  typeof(Function)) || (typeof(require.config) !== typeof(Function))) {\r\n",
       "    let require_script = document.createElement('script');\r\n",
       "    require_script.setAttribute('src', 'https://cdnjs.cloudflare.com/ajax/libs/require.js/2.3.6/require.min.js');\r\n",
       "    require_script.setAttribute('type', 'text/javascript');\r\n",
       "    \r\n",
       "    \r\n",
       "    require_script.onload = function() {\r\n",
       "        loadDotnetInteractiveApi();\r\n",
       "    };\r\n",
       "\r\n",
       "    document.getElementsByTagName('head')[0].appendChild(require_script);\r\n",
       "}\r\n",
       "else {\r\n",
       "    loadDotnetInteractiveApi();\r\n",
       "}\r\n",
       "\r\n",
       "    </script>\r\n",
       "</div>"
      ]
     },
     "metadata": {},
     "output_type": "display_data"
    },
    {
     "data": {
      "text/html": [
       "<div><div></div><div></div><div><strong>Installed Packages</strong><ul><li><span>FsLab, 1.1.6</span></li></ul></div></div>"
      ]
     },
     "metadata": {},
     "output_type": "display_data"
    }
   ],
   "source": [
    "#r \"nuget: FsLab, 1.1.6\""
   ]
  },
  {
   "cell_type": "code",
   "execution_count": 2,
   "id": "170df609-0150-4ee8-87fa-9ce6c807ad20",
   "metadata": {},
   "outputs": [],
   "source": [
    "open Deedle"
   ]
  },
  {
   "cell_type": "code",
   "execution_count": 3,
   "id": "92351572-d891-4a90-acf8-2c56f5d379da",
   "metadata": {},
   "outputs": [],
   "source": [
    "let csvPath = __SOURCE_DIRECTORY__ + \"/Teams/Data/fpl-master.csv\""
   ]
  },
  {
   "cell_type": "code",
   "execution_count": 4,
   "id": "5491b622-9e14-4fe3-8f32-e46575d2f622",
   "metadata": {},
   "outputs": [
    {
     "data": {
      "text/plain": [
       "/Users/liwu/RiderProjects/Fantasy/Teams/Data/fpl-master.csv"
      ]
     },
     "execution_count": 4,
     "metadata": {},
     "output_type": "execute_result"
    }
   ],
   "source": [
    "csvPath"
   ]
  },
  {
   "cell_type": "code",
   "execution_count": 5,
   "id": "bf68c08c-e1a6-4e5a-ade4-3f094c136f76",
   "metadata": {},
   "outputs": [
    {
     "name": "stderr",
     "output_type": "stream",
     "text": [
      "\n",
      "input.fsx (1,10)-(1,23) typecheck warning This method is not intended for use from F#.\n",
      "\n",
      "input.fsx (1,10)-(1,32) typecheck warning This method is not intended for use from F#.\n",
      "\n"
     ]
    }
   ],
   "source": [
    "let df = Frame.ReadCsv(csvPath)"
   ]
  },
  {
   "cell_type": "code",
   "execution_count": 7,
   "id": "814c4614-4a9a-4765-b283-2449dbc3aa50",
   "metadata": {},
   "outputs": [
    {
     "ename": "Unhandled exception",
     "evalue": "System.InvalidOperationException: OptionalValue.Value: Value is not available\n   at Deedle.OptionalValue`1.get_Value()\n   at <StartupCode$Deedle>.$Series.f@671-21[K,V](Series`2 x, Int64 idx, KeyValuePair`2 kvp)\n   at <StartupCode$Deedle>.$Series.get_ValuesAll@111.GenerateNext(IEnumerable`1& next)\n   at Microsoft.FSharp.Core.CompilerServices.GeneratedSequenceBase`1.MoveNextImpl() in D:\\workspace\\_work\\1\\s\\src\\fsharp\\FSharp.Core\\seqcore.fs:line 372\n   at System.Linq.Enumerable.Count[TSource](IEnumerable`1 source)\n   at Microsoft.DotNet.Interactive.Formatting.Formatter.Join[T](IEnumerable`1 list, TextWriter writer, FormatContext context, Nullable`1 listExpansionLimit) in D:\\workspace\\_work\\1\\s\\src\\Microsoft.DotNet.Interactive.Formatting\\Formatter.cs:line 361\n   at Microsoft.DotNet.Interactive.Formatting.Formatter.Join(IEnumerable list, TextWriter writer, FormatContext context, Nullable`1 listExpansionLimit) in D:\\workspace\\_work\\1\\s\\src\\Microsoft.DotNet.Interactive.Formatting\\Formatter.cs:line 320\n   at Microsoft.DotNet.Interactive.Formatting.PlainTextFormatter`1.<>c.<CreateForAnyEnumerable>b__9_0(T value, FormatContext context) in D:\\workspace\\_work\\1\\s\\src\\Microsoft.DotNet.Interactive.Formatting\\PlainTextFormatter{T}.cs:line 93\n   at Microsoft.DotNet.Interactive.Formatting.PlainTextFormatter`1.Format(T value, FormatContext context) in D:\\workspace\\_work\\1\\s\\src\\Microsoft.DotNet.Interactive.Formatting\\PlainTextFormatter{T}.cs:line 52\n   at Microsoft.DotNet.Interactive.Formatting.DefaultPlainTextFormatterSet.<>c.<.cctor>b__2_10(IEnumerable obj, FormatContext context) in D:\\workspace\\_work\\1\\s\\src\\Microsoft.DotNet.Interactive.Formatting\\DefaultPlainTextFormatterSet.cs:line 125\n   at Microsoft.DotNet.Interactive.Formatting.PlainTextFormatter`1.Format(T value, FormatContext context) in D:\\workspace\\_work\\1\\s\\src\\Microsoft.DotNet.Interactive.Formatting\\PlainTextFormatter{T}.cs:line 52\n   at Microsoft.DotNet.Interactive.Formatting.Formatter.<>c__DisplayClass53_0.<TryInferPreferredFormatter>b__4(Object value, FormatContext context) in D:\\workspace\\_work\\1\\s\\src\\Microsoft.DotNet.Interactive.Formatting\\Formatter.cs:line 561\n   at Microsoft.DotNet.Interactive.Formatting.Formatter`1.FormatTo(T obj, FormatContext context, String mimeType) in D:\\workspace\\_work\\1\\s\\src\\Microsoft.DotNet.Interactive.Formatting\\Formatter{T}.cs:line 65\n   at Microsoft.DotNet.Interactive.Formatting.Formatter.FormatTo[T](T obj, FormatContext context, String mimeType) in D:\\workspace\\_work\\1\\s\\src\\Microsoft.DotNet.Interactive.Formatting\\Formatter.cs:line 285\n   at Microsoft.DotNet.Interactive.Formatting.PlainTextFormatter.<>c__DisplayClass11_0`1.<CreateFormatDelegate>g__FormatObject|1(T target, FormatContext context) in D:\\workspace\\_work\\1\\s\\src\\Microsoft.DotNet.Interactive.Formatting\\PlainTextFormatter.cs:line 120\n   at Microsoft.DotNet.Interactive.Formatting.PlainTextFormatter`1.Format(T value, FormatContext context) in D:\\workspace\\_work\\1\\s\\src\\Microsoft.DotNet.Interactive.Formatting\\PlainTextFormatter{T}.cs:line 52\n   at Microsoft.DotNet.Interactive.Formatting.DefaultPlainTextFormatterSet.<>c.<.cctor>b__2_12(Object obj, FormatContext context) in D:\\workspace\\_work\\1\\s\\src\\Microsoft.DotNet.Interactive.Formatting\\DefaultPlainTextFormatterSet.cs:line 145\n   at Microsoft.DotNet.Interactive.Formatting.PlainTextFormatter`1.Format(T value, FormatContext context) in D:\\workspace\\_work\\1\\s\\src\\Microsoft.DotNet.Interactive.Formatting\\PlainTextFormatter{T}.cs:line 52\n   at Microsoft.DotNet.Interactive.Formatting.Formatter`1.FormatTo(T obj, FormatContext context, String mimeType) in D:\\workspace\\_work\\1\\s\\src\\Microsoft.DotNet.Interactive.Formatting\\Formatter{T}.cs:line 65\n   at Microsoft.DotNet.Interactive.Formatting.Formatter.FormatTo[T](T obj, FormatContext context, String mimeType) in D:\\workspace\\_work\\1\\s\\src\\Microsoft.DotNet.Interactive.Formatting\\Formatter.cs:line 285\n   at Microsoft.DotNet.Interactive.Formatting.Formatter.Join[T](IEnumerable`1 list, TextWriter writer, FormatContext context, Nullable`1 listExpansionLimit) in D:\\workspace\\_work\\1\\s\\src\\Microsoft.DotNet.Interactive.Formatting\\Formatter.cs:line 356\n   at Microsoft.DotNet.Interactive.Formatting.Formatter.Join(IEnumerable list, TextWriter writer, FormatContext context, Nullable`1 listExpansionLimit) in D:\\workspace\\_work\\1\\s\\src\\Microsoft.DotNet.Interactive.Formatting\\Formatter.cs:line 320\n   at Microsoft.DotNet.Interactive.Formatting.PlainTextFormatter`1.<>c.<CreateForAnyEnumerable>b__9_0(T value, FormatContext context) in D:\\workspace\\_work\\1\\s\\src\\Microsoft.DotNet.Interactive.Formatting\\PlainTextFormatter{T}.cs:line 93\n   at Microsoft.DotNet.Interactive.Formatting.PlainTextFormatter`1.Format(T value, FormatContext context) in D:\\workspace\\_work\\1\\s\\src\\Microsoft.DotNet.Interactive.Formatting\\PlainTextFormatter{T}.cs:line 52\n   at Microsoft.DotNet.Interactive.Formatting.DefaultPlainTextFormatterSet.<>c.<.cctor>b__2_10(IEnumerable obj, FormatContext context) in D:\\workspace\\_work\\1\\s\\src\\Microsoft.DotNet.Interactive.Formatting\\DefaultPlainTextFormatterSet.cs:line 125\n   at Microsoft.DotNet.Interactive.Formatting.PlainTextFormatter`1.Format(T value, FormatContext context) in D:\\workspace\\_work\\1\\s\\src\\Microsoft.DotNet.Interactive.Formatting\\PlainTextFormatter{T}.cs:line 52\n   at Microsoft.DotNet.Interactive.Formatting.Formatter.<>c__DisplayClass53_0.<TryInferPreferredFormatter>b__4(Object value, FormatContext context) in D:\\workspace\\_work\\1\\s\\src\\Microsoft.DotNet.Interactive.Formatting\\Formatter.cs:line 561\n   at Microsoft.DotNet.Interactive.Formatting.Formatter`1.FormatTo(T obj, FormatContext context, String mimeType) in D:\\workspace\\_work\\1\\s\\src\\Microsoft.DotNet.Interactive.Formatting\\Formatter{T}.cs:line 65\n   at Microsoft.DotNet.Interactive.Formatting.Formatter.FormatTo[T](T obj, FormatContext context, String mimeType) in D:\\workspace\\_work\\1\\s\\src\\Microsoft.DotNet.Interactive.Formatting\\Formatter.cs:line 285\n   at Microsoft.DotNet.Interactive.Formatting.PlainTextFormatter.<>c__DisplayClass11_0`1.<CreateFormatDelegate>g__FormatObject|1(T target, FormatContext context) in D:\\workspace\\_work\\1\\s\\src\\Microsoft.DotNet.Interactive.Formatting\\PlainTextFormatter.cs:line 120\n   at Microsoft.DotNet.Interactive.Formatting.PlainTextFormatter`1.Format(T value, FormatContext context) in D:\\workspace\\_work\\1\\s\\src\\Microsoft.DotNet.Interactive.Formatting\\PlainTextFormatter{T}.cs:line 52\n   at Microsoft.DotNet.Interactive.Formatting.DefaultPlainTextFormatterSet.<>c.<.cctor>b__2_12(Object obj, FormatContext context) in D:\\workspace\\_work\\1\\s\\src\\Microsoft.DotNet.Interactive.Formatting\\DefaultPlainTextFormatterSet.cs:line 145\n   at Microsoft.DotNet.Interactive.Formatting.PlainTextFormatter`1.Format(T value, FormatContext context) in D:\\workspace\\_work\\1\\s\\src\\Microsoft.DotNet.Interactive.Formatting\\PlainTextFormatter{T}.cs:line 52\n   at Microsoft.DotNet.Interactive.Formatting.Formatter`1.FormatTo(T obj, FormatContext context, String mimeType) in D:\\workspace\\_work\\1\\s\\src\\Microsoft.DotNet.Interactive.Formatting\\Formatter{T}.cs:line 65\n   at Microsoft.DotNet.Interactive.Formatting.Formatter.FormatTo[T](T obj, FormatContext context, String mimeType) in D:\\workspace\\_work\\1\\s\\src\\Microsoft.DotNet.Interactive.Formatting\\Formatter.cs:line 285\n   at Microsoft.DotNet.Interactive.Formatting.PlainTextFormatter.<>c__DisplayClass11_0`1.<CreateFormatDelegate>g__FormatObject|1(T target, FormatContext context) in D:\\workspace\\_work\\1\\s\\src\\Microsoft.DotNet.Interactive.Formatting\\PlainTextFormatter.cs:line 120\n   at Microsoft.DotNet.Interactive.Formatting.PlainTextFormatter`1.Format(T value, FormatContext context) in D:\\workspace\\_work\\1\\s\\src\\Microsoft.DotNet.Interactive.Formatting\\PlainTextFormatter{T}.cs:line 52\n   at Microsoft.DotNet.Interactive.Formatting.DefaultPlainTextFormatterSet.<>c.<.cctor>b__2_12(Object obj, FormatContext context) in D:\\workspace\\_work\\1\\s\\src\\Microsoft.DotNet.Interactive.Formatting\\DefaultPlainTextFormatterSet.cs:line 145\n   at Microsoft.DotNet.Interactive.Formatting.PlainTextFormatter`1.Format(T value, FormatContext context) in D:\\workspace\\_work\\1\\s\\src\\Microsoft.DotNet.Interactive.Formatting\\PlainTextFormatter{T}.cs:line 52\n   at Microsoft.DotNet.Interactive.Formatting.Formatter`1.FormatTo(T obj, FormatContext context, String mimeType) in D:\\workspace\\_work\\1\\s\\src\\Microsoft.DotNet.Interactive.Formatting\\Formatter{T}.cs:line 65\n   at Microsoft.DotNet.Interactive.Formatting.Formatter.FormatTo[T](T obj, FormatContext context, String mimeType) in D:\\workspace\\_work\\1\\s\\src\\Microsoft.DotNet.Interactive.Formatting\\Formatter.cs:line 285\n   at Microsoft.DotNet.Interactive.Formatting.Formatter.ToDisplayString(Object obj, String mimeType) in D:\\workspace\\_work\\1\\s\\src\\Microsoft.DotNet.Interactive.Formatting\\Formatter.cs:line 239\n   at Microsoft.DotNet.Interactive.Formatting.HtmlFormatter`1.<>c.<CreateForAnyObject>b__7_3(Object v) in D:\\workspace\\_work\\1\\s\\src\\Microsoft.DotNet.Interactive.Formatting\\HtmlFormatter{T}.cs:line 91\n   at System.Linq.Utilities.<>c__DisplayClass2_0`3.<CombineSelectors>b__0(TSource x)\n   at System.Linq.Enumerable.SelectArrayIterator`2.MoveNext()\n   at System.Linq.Enumerable.All[TSource](IEnumerable`1 source, Func`2 predicate)\n   at Microsoft.DotNet.Interactive.Formatting.PocketView.Write(IReadOnlyList`1 args, FormatContext context) in D:\\workspace\\_work\\1\\s\\src\\Microsoft.DotNet.Interactive.Formatting\\PocketView.cs:line 231\n   at Microsoft.DotNet.Interactive.Formatting.HtmlTag.WriteTo(FormatContext context) in D:\\workspace\\_work\\1\\s\\src\\Microsoft.DotNet.Interactive.Formatting\\HtmlTag.cs:line 96\n   at Microsoft.DotNet.Interactive.Formatting.PocketView.WriteTo(FormatContext context) in D:\\workspace\\_work\\1\\s\\src\\Microsoft.DotNet.Interactive.Formatting\\PocketView.cs:line 316\n   at Microsoft.DotNet.Interactive.Formatting.PocketView.Write(IReadOnlyList`1 args, FormatContext context) in D:\\workspace\\_work\\1\\s\\src\\Microsoft.DotNet.Interactive.Formatting\\PocketView.cs:line 219\n   at Microsoft.DotNet.Interactive.Formatting.HtmlTag.WriteTo(FormatContext context) in D:\\workspace\\_work\\1\\s\\src\\Microsoft.DotNet.Interactive.Formatting\\HtmlTag.cs:line 96\n   at Microsoft.DotNet.Interactive.Formatting.PocketView.WriteTo(FormatContext context) in D:\\workspace\\_work\\1\\s\\src\\Microsoft.DotNet.Interactive.Formatting\\PocketView.cs:line 316\n   at Microsoft.DotNet.Interactive.Formatting.PocketView.Write(IReadOnlyList`1 args, FormatContext context) in D:\\workspace\\_work\\1\\s\\src\\Microsoft.DotNet.Interactive.Formatting\\PocketView.cs:line 219\n   at Microsoft.DotNet.Interactive.Formatting.HtmlTag.WriteTo(FormatContext context) in D:\\workspace\\_work\\1\\s\\src\\Microsoft.DotNet.Interactive.Formatting\\HtmlTag.cs:line 96\n   at Microsoft.DotNet.Interactive.Formatting.PocketView.WriteTo(FormatContext context) in D:\\workspace\\_work\\1\\s\\src\\Microsoft.DotNet.Interactive.Formatting\\PocketView.cs:line 316\n   at Microsoft.DotNet.Interactive.Formatting.HtmlFormatter`1.<>c__DisplayClass7_0.<CreateForAnyObject>b__0(T instance, FormatContext context) in D:\\workspace\\_work\\1\\s\\src\\Microsoft.DotNet.Interactive.Formatting\\HtmlFormatter{T}.cs:line 94\n   at Microsoft.DotNet.Interactive.Formatting.DefaultHtmlFormatterSet.<>c.<.cctor>b__2_13(Object value, FormatContext context) in D:\\workspace\\_work\\1\\s\\src\\Microsoft.DotNet.Interactive.Formatting\\DefaultHtmlFormatterSet.cs:line 171\n   at Microsoft.DotNet.Interactive.Formatting.Formatter.<>c__DisplayClass53_0.<TryInferPreferredFormatter>b__4(Object value, FormatContext context) in D:\\workspace\\_work\\1\\s\\src\\Microsoft.DotNet.Interactive.Formatting\\Formatter.cs:line 561\n   at Microsoft.DotNet.Interactive.Formatting.Formatter`1.FormatTo(T obj, FormatContext context, String mimeType) in D:\\workspace\\_work\\1\\s\\src\\Microsoft.DotNet.Interactive.Formatting\\Formatter{T}.cs:line 65\n   at Microsoft.DotNet.Interactive.Formatting.Formatter.FormatTo[T](T obj, FormatContext context, String mimeType) in D:\\workspace\\_work\\1\\s\\src\\Microsoft.DotNet.Interactive.Formatting\\Formatter.cs:line 285\n   at Microsoft.DotNet.Interactive.Formatting.Formatter.ToDisplayString(Object obj, String mimeType) in D:\\workspace\\_work\\1\\s\\src\\Microsoft.DotNet.Interactive.Formatting\\Formatter.cs:line 239\n   at Microsoft.DotNet.Interactive.FormattedValue.FromObject(Object value, String mimeType) in D:\\workspace\\_work\\1\\s\\src\\Microsoft.DotNet.Interactive\\FormattedValue.cs:line 31\n   at <StartupCode$Microsoft-DotNet-Interactive-FSharp>.$FSharpKernel.clo@185-12.Invoke(Unit unitVar) in D:\\workspace\\_work\\1\\s\\src\\Microsoft.DotNet.Interactive.FSharp\\FSharpKernel.fs:line 204\n   at Microsoft.FSharp.Control.AsyncPrimitives.CallThenInvoke[T,TResult](AsyncActivation`1 ctxt, TResult result1, FSharpFunc`2 part2) in D:\\workspace\\_work\\1\\s\\src\\fsharp\\FSharp.Core\\async.fs:line 446\n   at Microsoft.FSharp.Control.Trampoline.Execute(FSharpFunc`2 firstAction) in D:\\workspace\\_work\\1\\s\\src\\fsharp\\FSharp.Core\\async.fs:line 104\n--- End of stack trace from previous location ---\n   at Microsoft.DotNet.Interactive.Kernel.HandleAsync(KernelCommand command, KernelInvocationContext context) in D:\\workspace\\_work\\1\\s\\src\\Microsoft.DotNet.Interactive\\Kernel.cs:line 249\n   at Microsoft.DotNet.Interactive.KernelCommandPipeline.<BuildPipeline>b__6_0(KernelCommand command, KernelInvocationContext context, KernelPipelineContinuation _) in D:\\workspace\\_work\\1\\s\\src\\Microsoft.DotNet.Interactive\\KernelCommandPipeline.cs:line 57\n   at Microsoft.DotNet.Interactive.KernelCommandPipeline.<>c__DisplayClass6_1.<<BuildPipeline>b__3>d.MoveNext() in D:\\workspace\\_work\\1\\s\\src\\Microsoft.DotNet.Interactive\\KernelCommandPipeline.cs:line 72\n--- End of stack trace from previous location ---\n   at Microsoft.DotNet.Interactive.CompositeKernel.LoadExtensions(KernelCommand command, KernelInvocationContext context, KernelPipelineContinuation next) in D:\\workspace\\_work\\1\\s\\src\\Microsoft.DotNet.Interactive\\CompositeKernel.cs:line 156\n   at Microsoft.DotNet.Interactive.KernelCommandPipeline.<>c__DisplayClass6_0.<<BuildPipeline>g__Combine|2>d.MoveNext() in D:\\workspace\\_work\\1\\s\\src\\Microsoft.DotNet.Interactive\\KernelCommandPipeline.cs:line 70\n--- End of stack trace from previous location ---\n   at Microsoft.DotNet.Interactive.KernelCommandPipeline.SendAsync(KernelCommand command, KernelInvocationContext context) in D:\\workspace\\_work\\1\\s\\src\\Microsoft.DotNet.Interactive\\KernelCommandPipeline.cs:line 48",
     "output_type": "error",
     "traceback": [
      "System.InvalidOperationException: OptionalValue.Value: Value is not available\n   at Deedle.OptionalValue`1.get_Value()\n   at <StartupCode$Deedle>.$Series.f@671-21[K,V](Series`2 x, Int64 idx, KeyValuePair`2 kvp)\n   at <StartupCode$Deedle>.$Series.get_ValuesAll@111.GenerateNext(IEnumerable`1& next)\n   at Microsoft.FSharp.Core.CompilerServices.GeneratedSequenceBase`1.MoveNextImpl() in D:\\workspace\\_work\\1\\s\\src\\fsharp\\FSharp.Core\\seqcore.fs:line 372\n   at System.Linq.Enumerable.Count[TSource](IEnumerable`1 source)\n   at Microsoft.DotNet.Interactive.Formatting.Formatter.Join[T](IEnumerable`1 list, TextWriter writer, FormatContext context, Nullable`1 listExpansionLimit) in D:\\workspace\\_work\\1\\s\\src\\Microsoft.DotNet.Interactive.Formatting\\Formatter.cs:line 361\n   at Microsoft.DotNet.Interactive.Formatting.Formatter.Join(IEnumerable list, TextWriter writer, FormatContext context, Nullable`1 listExpansionLimit) in D:\\workspace\\_work\\1\\s\\src\\Microsoft.DotNet.Interactive.Formatting\\Formatter.cs:line 320\n   at Microsoft.DotNet.Interactive.Formatting.PlainTextFormatter`1.<>c.<CreateForAnyEnumerable>b__9_0(T value, FormatContext context) in D:\\workspace\\_work\\1\\s\\src\\Microsoft.DotNet.Interactive.Formatting\\PlainTextFormatter{T}.cs:line 93\n   at Microsoft.DotNet.Interactive.Formatting.PlainTextFormatter`1.Format(T value, FormatContext context) in D:\\workspace\\_work\\1\\s\\src\\Microsoft.DotNet.Interactive.Formatting\\PlainTextFormatter{T}.cs:line 52\n   at Microsoft.DotNet.Interactive.Formatting.DefaultPlainTextFormatterSet.<>c.<.cctor>b__2_10(IEnumerable obj, FormatContext context) in D:\\workspace\\_work\\1\\s\\src\\Microsoft.DotNet.Interactive.Formatting\\DefaultPlainTextFormatterSet.cs:line 125\n   at Microsoft.DotNet.Interactive.Formatting.PlainTextFormatter`1.Format(T value, FormatContext context) in D:\\workspace\\_work\\1\\s\\src\\Microsoft.DotNet.Interactive.Formatting\\PlainTextFormatter{T}.cs:line 52\n   at Microsoft.DotNet.Interactive.Formatting.Formatter.<>c__DisplayClass53_0.<TryInferPreferredFormatter>b__4(Object value, FormatContext context) in D:\\workspace\\_work\\1\\s\\src\\Microsoft.DotNet.Interactive.Formatting\\Formatter.cs:line 561\n   at Microsoft.DotNet.Interactive.Formatting.Formatter`1.FormatTo(T obj, FormatContext context, String mimeType) in D:\\workspace\\_work\\1\\s\\src\\Microsoft.DotNet.Interactive.Formatting\\Formatter{T}.cs:line 65\n   at Microsoft.DotNet.Interactive.Formatting.Formatter.FormatTo[T](T obj, FormatContext context, String mimeType) in D:\\workspace\\_work\\1\\s\\src\\Microsoft.DotNet.Interactive.Formatting\\Formatter.cs:line 285\n   at Microsoft.DotNet.Interactive.Formatting.PlainTextFormatter.<>c__DisplayClass11_0`1.<CreateFormatDelegate>g__FormatObject|1(T target, FormatContext context) in D:\\workspace\\_work\\1\\s\\src\\Microsoft.DotNet.Interactive.Formatting\\PlainTextFormatter.cs:line 120\n   at Microsoft.DotNet.Interactive.Formatting.PlainTextFormatter`1.Format(T value, FormatContext context) in D:\\workspace\\_work\\1\\s\\src\\Microsoft.DotNet.Interactive.Formatting\\PlainTextFormatter{T}.cs:line 52\n   at Microsoft.DotNet.Interactive.Formatting.DefaultPlainTextFormatterSet.<>c.<.cctor>b__2_12(Object obj, FormatContext context) in D:\\workspace\\_work\\1\\s\\src\\Microsoft.DotNet.Interactive.Formatting\\DefaultPlainTextFormatterSet.cs:line 145\n   at Microsoft.DotNet.Interactive.Formatting.PlainTextFormatter`1.Format(T value, FormatContext context) in D:\\workspace\\_work\\1\\s\\src\\Microsoft.DotNet.Interactive.Formatting\\PlainTextFormatter{T}.cs:line 52\n   at Microsoft.DotNet.Interactive.Formatting.Formatter`1.FormatTo(T obj, FormatContext context, String mimeType) in D:\\workspace\\_work\\1\\s\\src\\Microsoft.DotNet.Interactive.Formatting\\Formatter{T}.cs:line 65\n   at Microsoft.DotNet.Interactive.Formatting.Formatter.FormatTo[T](T obj, FormatContext context, String mimeType) in D:\\workspace\\_work\\1\\s\\src\\Microsoft.DotNet.Interactive.Formatting\\Formatter.cs:line 285\n   at Microsoft.DotNet.Interactive.Formatting.Formatter.Join[T](IEnumerable`1 list, TextWriter writer, FormatContext context, Nullable`1 listExpansionLimit) in D:\\workspace\\_work\\1\\s\\src\\Microsoft.DotNet.Interactive.Formatting\\Formatter.cs:line 356\n   at Microsoft.DotNet.Interactive.Formatting.Formatter.Join(IEnumerable list, TextWriter writer, FormatContext context, Nullable`1 listExpansionLimit) in D:\\workspace\\_work\\1\\s\\src\\Microsoft.DotNet.Interactive.Formatting\\Formatter.cs:line 320\n   at Microsoft.DotNet.Interactive.Formatting.PlainTextFormatter`1.<>c.<CreateForAnyEnumerable>b__9_0(T value, FormatContext context) in D:\\workspace\\_work\\1\\s\\src\\Microsoft.DotNet.Interactive.Formatting\\PlainTextFormatter{T}.cs:line 93\n   at Microsoft.DotNet.Interactive.Formatting.PlainTextFormatter`1.Format(T value, FormatContext context) in D:\\workspace\\_work\\1\\s\\src\\Microsoft.DotNet.Interactive.Formatting\\PlainTextFormatter{T}.cs:line 52\n   at Microsoft.DotNet.Interactive.Formatting.DefaultPlainTextFormatterSet.<>c.<.cctor>b__2_10(IEnumerable obj, FormatContext context) in D:\\workspace\\_work\\1\\s\\src\\Microsoft.DotNet.Interactive.Formatting\\DefaultPlainTextFormatterSet.cs:line 125\n   at Microsoft.DotNet.Interactive.Formatting.PlainTextFormatter`1.Format(T value, FormatContext context) in D:\\workspace\\_work\\1\\s\\src\\Microsoft.DotNet.Interactive.Formatting\\PlainTextFormatter{T}.cs:line 52\n   at Microsoft.DotNet.Interactive.Formatting.Formatter.<>c__DisplayClass53_0.<TryInferPreferredFormatter>b__4(Object value, FormatContext context) in D:\\workspace\\_work\\1\\s\\src\\Microsoft.DotNet.Interactive.Formatting\\Formatter.cs:line 561\n   at Microsoft.DotNet.Interactive.Formatting.Formatter`1.FormatTo(T obj, FormatContext context, String mimeType) in D:\\workspace\\_work\\1\\s\\src\\Microsoft.DotNet.Interactive.Formatting\\Formatter{T}.cs:line 65\n   at Microsoft.DotNet.Interactive.Formatting.Formatter.FormatTo[T](T obj, FormatContext context, String mimeType) in D:\\workspace\\_work\\1\\s\\src\\Microsoft.DotNet.Interactive.Formatting\\Formatter.cs:line 285\n   at Microsoft.DotNet.Interactive.Formatting.PlainTextFormatter.<>c__DisplayClass11_0`1.<CreateFormatDelegate>g__FormatObject|1(T target, FormatContext context) in D:\\workspace\\_work\\1\\s\\src\\Microsoft.DotNet.Interactive.Formatting\\PlainTextFormatter.cs:line 120\n   at Microsoft.DotNet.Interactive.Formatting.PlainTextFormatter`1.Format(T value, FormatContext context) in D:\\workspace\\_work\\1\\s\\src\\Microsoft.DotNet.Interactive.Formatting\\PlainTextFormatter{T}.cs:line 52\n   at Microsoft.DotNet.Interactive.Formatting.DefaultPlainTextFormatterSet.<>c.<.cctor>b__2_12(Object obj, FormatContext context) in D:\\workspace\\_work\\1\\s\\src\\Microsoft.DotNet.Interactive.Formatting\\DefaultPlainTextFormatterSet.cs:line 145\n   at Microsoft.DotNet.Interactive.Formatting.PlainTextFormatter`1.Format(T value, FormatContext context) in D:\\workspace\\_work\\1\\s\\src\\Microsoft.DotNet.Interactive.Formatting\\PlainTextFormatter{T}.cs:line 52\n   at Microsoft.DotNet.Interactive.Formatting.Formatter`1.FormatTo(T obj, FormatContext context, String mimeType) in D:\\workspace\\_work\\1\\s\\src\\Microsoft.DotNet.Interactive.Formatting\\Formatter{T}.cs:line 65\n   at Microsoft.DotNet.Interactive.Formatting.Formatter.FormatTo[T](T obj, FormatContext context, String mimeType) in D:\\workspace\\_work\\1\\s\\src\\Microsoft.DotNet.Interactive.Formatting\\Formatter.cs:line 285\n   at Microsoft.DotNet.Interactive.Formatting.PlainTextFormatter.<>c__DisplayClass11_0`1.<CreateFormatDelegate>g__FormatObject|1(T target, FormatContext context) in D:\\workspace\\_work\\1\\s\\src\\Microsoft.DotNet.Interactive.Formatting\\PlainTextFormatter.cs:line 120\n   at Microsoft.DotNet.Interactive.Formatting.PlainTextFormatter`1.Format(T value, FormatContext context) in D:\\workspace\\_work\\1\\s\\src\\Microsoft.DotNet.Interactive.Formatting\\PlainTextFormatter{T}.cs:line 52\n   at Microsoft.DotNet.Interactive.Formatting.DefaultPlainTextFormatterSet.<>c.<.cctor>b__2_12(Object obj, FormatContext context) in D:\\workspace\\_work\\1\\s\\src\\Microsoft.DotNet.Interactive.Formatting\\DefaultPlainTextFormatterSet.cs:line 145\n   at Microsoft.DotNet.Interactive.Formatting.PlainTextFormatter`1.Format(T value, FormatContext context) in D:\\workspace\\_work\\1\\s\\src\\Microsoft.DotNet.Interactive.Formatting\\PlainTextFormatter{T}.cs:line 52\n   at Microsoft.DotNet.Interactive.Formatting.Formatter`1.FormatTo(T obj, FormatContext context, String mimeType) in D:\\workspace\\_work\\1\\s\\src\\Microsoft.DotNet.Interactive.Formatting\\Formatter{T}.cs:line 65\n   at Microsoft.DotNet.Interactive.Formatting.Formatter.FormatTo[T](T obj, FormatContext context, String mimeType) in D:\\workspace\\_work\\1\\s\\src\\Microsoft.DotNet.Interactive.Formatting\\Formatter.cs:line 285\n   at Microsoft.DotNet.Interactive.Formatting.Formatter.ToDisplayString(Object obj, String mimeType) in D:\\workspace\\_work\\1\\s\\src\\Microsoft.DotNet.Interactive.Formatting\\Formatter.cs:line 239\n   at Microsoft.DotNet.Interactive.Formatting.HtmlFormatter`1.<>c.<CreateForAnyObject>b__7_3(Object v) in D:\\workspace\\_work\\1\\s\\src\\Microsoft.DotNet.Interactive.Formatting\\HtmlFormatter{T}.cs:line 91\n   at System.Linq.Utilities.<>c__DisplayClass2_0`3.<CombineSelectors>b__0(TSource x)\n   at System.Linq.Enumerable.SelectArrayIterator`2.MoveNext()\n   at System.Linq.Enumerable.All[TSource](IEnumerable`1 source, Func`2 predicate)\n   at Microsoft.DotNet.Interactive.Formatting.PocketView.Write(IReadOnlyList`1 args, FormatContext context) in D:\\workspace\\_work\\1\\s\\src\\Microsoft.DotNet.Interactive.Formatting\\PocketView.cs:line 231\n   at Microsoft.DotNet.Interactive.Formatting.HtmlTag.WriteTo(FormatContext context) in D:\\workspace\\_work\\1\\s\\src\\Microsoft.DotNet.Interactive.Formatting\\HtmlTag.cs:line 96\n   at Microsoft.DotNet.Interactive.Formatting.PocketView.WriteTo(FormatContext context) in D:\\workspace\\_work\\1\\s\\src\\Microsoft.DotNet.Interactive.Formatting\\PocketView.cs:line 316\n   at Microsoft.DotNet.Interactive.Formatting.PocketView.Write(IReadOnlyList`1 args, FormatContext context) in D:\\workspace\\_work\\1\\s\\src\\Microsoft.DotNet.Interactive.Formatting\\PocketView.cs:line 219\n   at Microsoft.DotNet.Interactive.Formatting.HtmlTag.WriteTo(FormatContext context) in D:\\workspace\\_work\\1\\s\\src\\Microsoft.DotNet.Interactive.Formatting\\HtmlTag.cs:line 96\n   at Microsoft.DotNet.Interactive.Formatting.PocketView.WriteTo(FormatContext context) in D:\\workspace\\_work\\1\\s\\src\\Microsoft.DotNet.Interactive.Formatting\\PocketView.cs:line 316\n   at Microsoft.DotNet.Interactive.Formatting.PocketView.Write(IReadOnlyList`1 args, FormatContext context) in D:\\workspace\\_work\\1\\s\\src\\Microsoft.DotNet.Interactive.Formatting\\PocketView.cs:line 219\n   at Microsoft.DotNet.Interactive.Formatting.HtmlTag.WriteTo(FormatContext context) in D:\\workspace\\_work\\1\\s\\src\\Microsoft.DotNet.Interactive.Formatting\\HtmlTag.cs:line 96\n   at Microsoft.DotNet.Interactive.Formatting.PocketView.WriteTo(FormatContext context) in D:\\workspace\\_work\\1\\s\\src\\Microsoft.DotNet.Interactive.Formatting\\PocketView.cs:line 316\n   at Microsoft.DotNet.Interactive.Formatting.HtmlFormatter`1.<>c__DisplayClass7_0.<CreateForAnyObject>b__0(T instance, FormatContext context) in D:\\workspace\\_work\\1\\s\\src\\Microsoft.DotNet.Interactive.Formatting\\HtmlFormatter{T}.cs:line 94\n   at Microsoft.DotNet.Interactive.Formatting.DefaultHtmlFormatterSet.<>c.<.cctor>b__2_13(Object value, FormatContext context) in D:\\workspace\\_work\\1\\s\\src\\Microsoft.DotNet.Interactive.Formatting\\DefaultHtmlFormatterSet.cs:line 171\n   at Microsoft.DotNet.Interactive.Formatting.Formatter.<>c__DisplayClass53_0.<TryInferPreferredFormatter>b__4(Object value, FormatContext context) in D:\\workspace\\_work\\1\\s\\src\\Microsoft.DotNet.Interactive.Formatting\\Formatter.cs:line 561\n   at Microsoft.DotNet.Interactive.Formatting.Formatter`1.FormatTo(T obj, FormatContext context, String mimeType) in D:\\workspace\\_work\\1\\s\\src\\Microsoft.DotNet.Interactive.Formatting\\Formatter{T}.cs:line 65\n   at Microsoft.DotNet.Interactive.Formatting.Formatter.FormatTo[T](T obj, FormatContext context, String mimeType) in D:\\workspace\\_work\\1\\s\\src\\Microsoft.DotNet.Interactive.Formatting\\Formatter.cs:line 285\n   at Microsoft.DotNet.Interactive.Formatting.Formatter.ToDisplayString(Object obj, String mimeType) in D:\\workspace\\_work\\1\\s\\src\\Microsoft.DotNet.Interactive.Formatting\\Formatter.cs:line 239\n   at Microsoft.DotNet.Interactive.FormattedValue.FromObject(Object value, String mimeType) in D:\\workspace\\_work\\1\\s\\src\\Microsoft.DotNet.Interactive\\FormattedValue.cs:line 31\n   at <StartupCode$Microsoft-DotNet-Interactive-FSharp>.$FSharpKernel.clo@185-12.Invoke(Unit unitVar) in D:\\workspace\\_work\\1\\s\\src\\Microsoft.DotNet.Interactive.FSharp\\FSharpKernel.fs:line 204\n   at Microsoft.FSharp.Control.AsyncPrimitives.CallThenInvoke[T,TResult](AsyncActivation`1 ctxt, TResult result1, FSharpFunc`2 part2) in D:\\workspace\\_work\\1\\s\\src\\fsharp\\FSharp.Core\\async.fs:line 446\n   at Microsoft.FSharp.Control.Trampoline.Execute(FSharpFunc`2 firstAction) in D:\\workspace\\_work\\1\\s\\src\\fsharp\\FSharp.Core\\async.fs:line 104\n--- End of stack trace from previous location ---\n   at Microsoft.DotNet.Interactive.Kernel.HandleAsync(KernelCommand command, KernelInvocationContext context) in D:\\workspace\\_work\\1\\s\\src\\Microsoft.DotNet.Interactive\\Kernel.cs:line 249\n   at Microsoft.DotNet.Interactive.KernelCommandPipeline.<BuildPipeline>b__6_0(KernelCommand command, KernelInvocationContext context, KernelPipelineContinuation _) in D:\\workspace\\_work\\1\\s\\src\\Microsoft.DotNet.Interactive\\KernelCommandPipeline.cs:line 57\n   at Microsoft.DotNet.Interactive.KernelCommandPipeline.<>c__DisplayClass6_1.<<BuildPipeline>b__3>d.MoveNext() in D:\\workspace\\_work\\1\\s\\src\\Microsoft.DotNet.Interactive\\KernelCommandPipeline.cs:line 72\n--- End of stack trace from previous location ---\n   at Microsoft.DotNet.Interactive.CompositeKernel.LoadExtensions(KernelCommand command, KernelInvocationContext context, KernelPipelineContinuation next) in D:\\workspace\\_work\\1\\s\\src\\Microsoft.DotNet.Interactive\\CompositeKernel.cs:line 156\n   at Microsoft.DotNet.Interactive.KernelCommandPipeline.<>c__DisplayClass6_0.<<BuildPipeline>g__Combine|2>d.MoveNext() in D:\\workspace\\_work\\1\\s\\src\\Microsoft.DotNet.Interactive\\KernelCommandPipeline.cs:line 70\n--- End of stack trace from previous location ---\n   at Microsoft.DotNet.Interactive.KernelCommandPipeline.SendAsync(KernelCommand command, KernelInvocationContext context) in D:\\workspace\\_work\\1\\s\\src\\Microsoft.DotNet.Interactive\\KernelCommandPipeline.cs:line 48",
      "   at Deedle.OptionalValue`1.get_Value()",
      "   at <StartupCode$Deedle>.$Series.f@671-21[K,V](Series`2 x, Int64 idx, KeyValuePair`2 kvp)",
      "   at <StartupCode$Deedle>.$Series.get_ValuesAll@111.GenerateNext(IEnumerable`1& next)",
      "   at Microsoft.FSharp.Core.CompilerServices.GeneratedSequenceBase`1.MoveNextImpl() in D:\\workspace\\_work\\1\\s\\src\\fsharp\\FSharp.Core\\seqcore.fs:line 372",
      "   at System.Linq.Enumerable.Count[TSource](IEnumerable`1 source)",
      "   at Microsoft.DotNet.Interactive.Formatting.Formatter.Join[T](IEnumerable`1 list, TextWriter writer, FormatContext context, Nullable`1 listExpansionLimit) in D:\\workspace\\_work\\1\\s\\src\\Microsoft.DotNet.Interactive.Formatting\\Formatter.cs:line 361",
      "   at Microsoft.DotNet.Interactive.Formatting.Formatter.Join(IEnumerable list, TextWriter writer, FormatContext context, Nullable`1 listExpansionLimit) in D:\\workspace\\_work\\1\\s\\src\\Microsoft.DotNet.Interactive.Formatting\\Formatter.cs:line 320",
      "   at Microsoft.DotNet.Interactive.Formatting.PlainTextFormatter`1.<>c.<CreateForAnyEnumerable>b__9_0(T value, FormatContext context) in D:\\workspace\\_work\\1\\s\\src\\Microsoft.DotNet.Interactive.Formatting\\PlainTextFormatter{T}.cs:line 93",
      "   at Microsoft.DotNet.Interactive.Formatting.PlainTextFormatter`1.Format(T value, FormatContext context) in D:\\workspace\\_work\\1\\s\\src\\Microsoft.DotNet.Interactive.Formatting\\PlainTextFormatter{T}.cs:line 52",
      "   at Microsoft.DotNet.Interactive.Formatting.DefaultPlainTextFormatterSet.<>c.<.cctor>b__2_10(IEnumerable obj, FormatContext context) in D:\\workspace\\_work\\1\\s\\src\\Microsoft.DotNet.Interactive.Formatting\\DefaultPlainTextFormatterSet.cs:line 125",
      "   at Microsoft.DotNet.Interactive.Formatting.PlainTextFormatter`1.Format(T value, FormatContext context) in D:\\workspace\\_work\\1\\s\\src\\Microsoft.DotNet.Interactive.Formatting\\PlainTextFormatter{T}.cs:line 52",
      "   at Microsoft.DotNet.Interactive.Formatting.Formatter.<>c__DisplayClass53_0.<TryInferPreferredFormatter>b__4(Object value, FormatContext context) in D:\\workspace\\_work\\1\\s\\src\\Microsoft.DotNet.Interactive.Formatting\\Formatter.cs:line 561",
      "   at Microsoft.DotNet.Interactive.Formatting.Formatter`1.FormatTo(T obj, FormatContext context, String mimeType) in D:\\workspace\\_work\\1\\s\\src\\Microsoft.DotNet.Interactive.Formatting\\Formatter{T}.cs:line 65",
      "   at Microsoft.DotNet.Interactive.Formatting.Formatter.FormatTo[T](T obj, FormatContext context, String mimeType) in D:\\workspace\\_work\\1\\s\\src\\Microsoft.DotNet.Interactive.Formatting\\Formatter.cs:line 285",
      "   at Microsoft.DotNet.Interactive.Formatting.PlainTextFormatter.<>c__DisplayClass11_0`1.<CreateFormatDelegate>g__FormatObject|1(T target, FormatContext context) in D:\\workspace\\_work\\1\\s\\src\\Microsoft.DotNet.Interactive.Formatting\\PlainTextFormatter.cs:line 120",
      "   at Microsoft.DotNet.Interactive.Formatting.PlainTextFormatter`1.Format(T value, FormatContext context) in D:\\workspace\\_work\\1\\s\\src\\Microsoft.DotNet.Interactive.Formatting\\PlainTextFormatter{T}.cs:line 52",
      "   at Microsoft.DotNet.Interactive.Formatting.DefaultPlainTextFormatterSet.<>c.<.cctor>b__2_12(Object obj, FormatContext context) in D:\\workspace\\_work\\1\\s\\src\\Microsoft.DotNet.Interactive.Formatting\\DefaultPlainTextFormatterSet.cs:line 145",
      "   at Microsoft.DotNet.Interactive.Formatting.PlainTextFormatter`1.Format(T value, FormatContext context) in D:\\workspace\\_work\\1\\s\\src\\Microsoft.DotNet.Interactive.Formatting\\PlainTextFormatter{T}.cs:line 52",
      "   at Microsoft.DotNet.Interactive.Formatting.Formatter`1.FormatTo(T obj, FormatContext context, String mimeType) in D:\\workspace\\_work\\1\\s\\src\\Microsoft.DotNet.Interactive.Formatting\\Formatter{T}.cs:line 65",
      "   at Microsoft.DotNet.Interactive.Formatting.Formatter.FormatTo[T](T obj, FormatContext context, String mimeType) in D:\\workspace\\_work\\1\\s\\src\\Microsoft.DotNet.Interactive.Formatting\\Formatter.cs:line 285",
      "   at Microsoft.DotNet.Interactive.Formatting.Formatter.Join[T](IEnumerable`1 list, TextWriter writer, FormatContext context, Nullable`1 listExpansionLimit) in D:\\workspace\\_work\\1\\s\\src\\Microsoft.DotNet.Interactive.Formatting\\Formatter.cs:line 356",
      "   at Microsoft.DotNet.Interactive.Formatting.Formatter.Join(IEnumerable list, TextWriter writer, FormatContext context, Nullable`1 listExpansionLimit) in D:\\workspace\\_work\\1\\s\\src\\Microsoft.DotNet.Interactive.Formatting\\Formatter.cs:line 320",
      "   at Microsoft.DotNet.Interactive.Formatting.PlainTextFormatter`1.<>c.<CreateForAnyEnumerable>b__9_0(T value, FormatContext context) in D:\\workspace\\_work\\1\\s\\src\\Microsoft.DotNet.Interactive.Formatting\\PlainTextFormatter{T}.cs:line 93",
      "   at Microsoft.DotNet.Interactive.Formatting.PlainTextFormatter`1.Format(T value, FormatContext context) in D:\\workspace\\_work\\1\\s\\src\\Microsoft.DotNet.Interactive.Formatting\\PlainTextFormatter{T}.cs:line 52",
      "   at Microsoft.DotNet.Interactive.Formatting.DefaultPlainTextFormatterSet.<>c.<.cctor>b__2_10(IEnumerable obj, FormatContext context) in D:\\workspace\\_work\\1\\s\\src\\Microsoft.DotNet.Interactive.Formatting\\DefaultPlainTextFormatterSet.cs:line 125",
      "   at Microsoft.DotNet.Interactive.Formatting.PlainTextFormatter`1.Format(T value, FormatContext context) in D:\\workspace\\_work\\1\\s\\src\\Microsoft.DotNet.Interactive.Formatting\\PlainTextFormatter{T}.cs:line 52",
      "   at Microsoft.DotNet.Interactive.Formatting.Formatter.<>c__DisplayClass53_0.<TryInferPreferredFormatter>b__4(Object value, FormatContext context) in D:\\workspace\\_work\\1\\s\\src\\Microsoft.DotNet.Interactive.Formatting\\Formatter.cs:line 561",
      "   at Microsoft.DotNet.Interactive.Formatting.Formatter`1.FormatTo(T obj, FormatContext context, String mimeType) in D:\\workspace\\_work\\1\\s\\src\\Microsoft.DotNet.Interactive.Formatting\\Formatter{T}.cs:line 65",
      "   at Microsoft.DotNet.Interactive.Formatting.Formatter.FormatTo[T](T obj, FormatContext context, String mimeType) in D:\\workspace\\_work\\1\\s\\src\\Microsoft.DotNet.Interactive.Formatting\\Formatter.cs:line 285",
      "   at Microsoft.DotNet.Interactive.Formatting.PlainTextFormatter.<>c__DisplayClass11_0`1.<CreateFormatDelegate>g__FormatObject|1(T target, FormatContext context) in D:\\workspace\\_work\\1\\s\\src\\Microsoft.DotNet.Interactive.Formatting\\PlainTextFormatter.cs:line 120",
      "   at Microsoft.DotNet.Interactive.Formatting.PlainTextFormatter`1.Format(T value, FormatContext context) in D:\\workspace\\_work\\1\\s\\src\\Microsoft.DotNet.Interactive.Formatting\\PlainTextFormatter{T}.cs:line 52",
      "   at Microsoft.DotNet.Interactive.Formatting.DefaultPlainTextFormatterSet.<>c.<.cctor>b__2_12(Object obj, FormatContext context) in D:\\workspace\\_work\\1\\s\\src\\Microsoft.DotNet.Interactive.Formatting\\DefaultPlainTextFormatterSet.cs:line 145",
      "   at Microsoft.DotNet.Interactive.Formatting.PlainTextFormatter`1.Format(T value, FormatContext context) in D:\\workspace\\_work\\1\\s\\src\\Microsoft.DotNet.Interactive.Formatting\\PlainTextFormatter{T}.cs:line 52",
      "   at Microsoft.DotNet.Interactive.Formatting.Formatter`1.FormatTo(T obj, FormatContext context, String mimeType) in D:\\workspace\\_work\\1\\s\\src\\Microsoft.DotNet.Interactive.Formatting\\Formatter{T}.cs:line 65",
      "   at Microsoft.DotNet.Interactive.Formatting.Formatter.FormatTo[T](T obj, FormatContext context, String mimeType) in D:\\workspace\\_work\\1\\s\\src\\Microsoft.DotNet.Interactive.Formatting\\Formatter.cs:line 285",
      "   at Microsoft.DotNet.Interactive.Formatting.PlainTextFormatter.<>c__DisplayClass11_0`1.<CreateFormatDelegate>g__FormatObject|1(T target, FormatContext context) in D:\\workspace\\_work\\1\\s\\src\\Microsoft.DotNet.Interactive.Formatting\\PlainTextFormatter.cs:line 120",
      "   at Microsoft.DotNet.Interactive.Formatting.PlainTextFormatter`1.Format(T value, FormatContext context) in D:\\workspace\\_work\\1\\s\\src\\Microsoft.DotNet.Interactive.Formatting\\PlainTextFormatter{T}.cs:line 52",
      "   at Microsoft.DotNet.Interactive.Formatting.DefaultPlainTextFormatterSet.<>c.<.cctor>b__2_12(Object obj, FormatContext context) in D:\\workspace\\_work\\1\\s\\src\\Microsoft.DotNet.Interactive.Formatting\\DefaultPlainTextFormatterSet.cs:line 145",
      "   at Microsoft.DotNet.Interactive.Formatting.PlainTextFormatter`1.Format(T value, FormatContext context) in D:\\workspace\\_work\\1\\s\\src\\Microsoft.DotNet.Interactive.Formatting\\PlainTextFormatter{T}.cs:line 52",
      "   at Microsoft.DotNet.Interactive.Formatting.Formatter`1.FormatTo(T obj, FormatContext context, String mimeType) in D:\\workspace\\_work\\1\\s\\src\\Microsoft.DotNet.Interactive.Formatting\\Formatter{T}.cs:line 65",
      "   at Microsoft.DotNet.Interactive.Formatting.Formatter.FormatTo[T](T obj, FormatContext context, String mimeType) in D:\\workspace\\_work\\1\\s\\src\\Microsoft.DotNet.Interactive.Formatting\\Formatter.cs:line 285",
      "   at Microsoft.DotNet.Interactive.Formatting.Formatter.ToDisplayString(Object obj, String mimeType) in D:\\workspace\\_work\\1\\s\\src\\Microsoft.DotNet.Interactive.Formatting\\Formatter.cs:line 239",
      "   at Microsoft.DotNet.Interactive.Formatting.HtmlFormatter`1.<>c.<CreateForAnyObject>b__7_3(Object v) in D:\\workspace\\_work\\1\\s\\src\\Microsoft.DotNet.Interactive.Formatting\\HtmlFormatter{T}.cs:line 91",
      "   at System.Linq.Utilities.<>c__DisplayClass2_0`3.<CombineSelectors>b__0(TSource x)",
      "   at System.Linq.Enumerable.SelectArrayIterator`2.MoveNext()",
      "   at System.Linq.Enumerable.All[TSource](IEnumerable`1 source, Func`2 predicate)",
      "   at Microsoft.DotNet.Interactive.Formatting.PocketView.Write(IReadOnlyList`1 args, FormatContext context) in D:\\workspace\\_work\\1\\s\\src\\Microsoft.DotNet.Interactive.Formatting\\PocketView.cs:line 231",
      "   at Microsoft.DotNet.Interactive.Formatting.HtmlTag.WriteTo(FormatContext context) in D:\\workspace\\_work\\1\\s\\src\\Microsoft.DotNet.Interactive.Formatting\\HtmlTag.cs:line 96",
      "   at Microsoft.DotNet.Interactive.Formatting.PocketView.WriteTo(FormatContext context) in D:\\workspace\\_work\\1\\s\\src\\Microsoft.DotNet.Interactive.Formatting\\PocketView.cs:line 316",
      "   at Microsoft.DotNet.Interactive.Formatting.PocketView.Write(IReadOnlyList`1 args, FormatContext context) in D:\\workspace\\_work\\1\\s\\src\\Microsoft.DotNet.Interactive.Formatting\\PocketView.cs:line 219",
      "   at Microsoft.DotNet.Interactive.Formatting.HtmlTag.WriteTo(FormatContext context) in D:\\workspace\\_work\\1\\s\\src\\Microsoft.DotNet.Interactive.Formatting\\HtmlTag.cs:line 96",
      "   at Microsoft.DotNet.Interactive.Formatting.PocketView.WriteTo(FormatContext context) in D:\\workspace\\_work\\1\\s\\src\\Microsoft.DotNet.Interactive.Formatting\\PocketView.cs:line 316",
      "   at Microsoft.DotNet.Interactive.Formatting.PocketView.Write(IReadOnlyList`1 args, FormatContext context) in D:\\workspace\\_work\\1\\s\\src\\Microsoft.DotNet.Interactive.Formatting\\PocketView.cs:line 219",
      "   at Microsoft.DotNet.Interactive.Formatting.HtmlTag.WriteTo(FormatContext context) in D:\\workspace\\_work\\1\\s\\src\\Microsoft.DotNet.Interactive.Formatting\\HtmlTag.cs:line 96",
      "   at Microsoft.DotNet.Interactive.Formatting.PocketView.WriteTo(FormatContext context) in D:\\workspace\\_work\\1\\s\\src\\Microsoft.DotNet.Interactive.Formatting\\PocketView.cs:line 316",
      "   at Microsoft.DotNet.Interactive.Formatting.HtmlFormatter`1.<>c__DisplayClass7_0.<CreateForAnyObject>b__0(T instance, FormatContext context) in D:\\workspace\\_work\\1\\s\\src\\Microsoft.DotNet.Interactive.Formatting\\HtmlFormatter{T}.cs:line 94",
      "   at Microsoft.DotNet.Interactive.Formatting.DefaultHtmlFormatterSet.<>c.<.cctor>b__2_13(Object value, FormatContext context) in D:\\workspace\\_work\\1\\s\\src\\Microsoft.DotNet.Interactive.Formatting\\DefaultHtmlFormatterSet.cs:line 171",
      "   at Microsoft.DotNet.Interactive.Formatting.Formatter.<>c__DisplayClass53_0.<TryInferPreferredFormatter>b__4(Object value, FormatContext context) in D:\\workspace\\_work\\1\\s\\src\\Microsoft.DotNet.Interactive.Formatting\\Formatter.cs:line 561",
      "   at Microsoft.DotNet.Interactive.Formatting.Formatter`1.FormatTo(T obj, FormatContext context, String mimeType) in D:\\workspace\\_work\\1\\s\\src\\Microsoft.DotNet.Interactive.Formatting\\Formatter{T}.cs:line 65",
      "   at Microsoft.DotNet.Interactive.Formatting.Formatter.FormatTo[T](T obj, FormatContext context, String mimeType) in D:\\workspace\\_work\\1\\s\\src\\Microsoft.DotNet.Interactive.Formatting\\Formatter.cs:line 285",
      "   at Microsoft.DotNet.Interactive.Formatting.Formatter.ToDisplayString(Object obj, String mimeType) in D:\\workspace\\_work\\1\\s\\src\\Microsoft.DotNet.Interactive.Formatting\\Formatter.cs:line 239",
      "   at Microsoft.DotNet.Interactive.FormattedValue.FromObject(Object value, String mimeType) in D:\\workspace\\_work\\1\\s\\src\\Microsoft.DotNet.Interactive\\FormattedValue.cs:line 31",
      "   at <StartupCode$Microsoft-DotNet-Interactive-FSharp>.$FSharpKernel.clo@185-12.Invoke(Unit unitVar) in D:\\workspace\\_work\\1\\s\\src\\Microsoft.DotNet.Interactive.FSharp\\FSharpKernel.fs:line 204",
      "   at Microsoft.FSharp.Control.AsyncPrimitives.CallThenInvoke[T,TResult](AsyncActivation`1 ctxt, TResult result1, FSharpFunc`2 part2) in D:\\workspace\\_work\\1\\s\\src\\fsharp\\FSharp.Core\\async.fs:line 446",
      "   at Microsoft.FSharp.Control.Trampoline.Execute(FSharpFunc`2 firstAction) in D:\\workspace\\_work\\1\\s\\src\\fsharp\\FSharp.Core\\async.fs:line 104",
      "--- End of stack trace from previous location ---",
      "   at Microsoft.DotNet.Interactive.Kernel.HandleAsync(KernelCommand command, KernelInvocationContext context) in D:\\workspace\\_work\\1\\s\\src\\Microsoft.DotNet.Interactive\\Kernel.cs:line 249",
      "   at Microsoft.DotNet.Interactive.KernelCommandPipeline.<BuildPipeline>b__6_0(KernelCommand command, KernelInvocationContext context, KernelPipelineContinuation _) in D:\\workspace\\_work\\1\\s\\src\\Microsoft.DotNet.Interactive\\KernelCommandPipeline.cs:line 57",
      "   at Microsoft.DotNet.Interactive.KernelCommandPipeline.<>c__DisplayClass6_1.<<BuildPipeline>b__3>d.MoveNext() in D:\\workspace\\_work\\1\\s\\src\\Microsoft.DotNet.Interactive\\KernelCommandPipeline.cs:line 72",
      "--- End of stack trace from previous location ---",
      "   at Microsoft.DotNet.Interactive.CompositeKernel.LoadExtensions(KernelCommand command, KernelInvocationContext context, KernelPipelineContinuation next) in D:\\workspace\\_work\\1\\s\\src\\Microsoft.DotNet.Interactive\\CompositeKernel.cs:line 156",
      "   at Microsoft.DotNet.Interactive.KernelCommandPipeline.<>c__DisplayClass6_0.<<BuildPipeline>g__Combine|2>d.MoveNext() in D:\\workspace\\_work\\1\\s\\src\\Microsoft.DotNet.Interactive\\KernelCommandPipeline.cs:line 70",
      "--- End of stack trace from previous location ---",
      "   at Microsoft.DotNet.Interactive.KernelCommandPipeline.SendAsync(KernelCommand command, KernelInvocationContext context) in D:\\workspace\\_work\\1\\s\\src\\Microsoft.DotNet.Interactive\\KernelCommandPipeline.cs:line 48"
     ]
    }
   ],
   "source": [
    "df.Print()"
   ]
  },
  {
   "cell_type": "code",
   "execution_count": null,
   "id": "a4929a42-fc32-440d-8592-5702067f3c49",
   "metadata": {},
   "outputs": [],
   "source": []
  }
 ],
 "metadata": {
  "kernelspec": {
   "display_name": ".NET (F#)",
   "language": "F#",
   "name": ".net-fsharp"
  },
  "language_info": {
   "file_extension": ".fs",
   "mimetype": "text/x-fsharp",
   "name": "F#",
   "pygments_lexer": "fsharp",
   "version": "5.0"
  }
 },
 "nbformat": 4,
 "nbformat_minor": 5
}
